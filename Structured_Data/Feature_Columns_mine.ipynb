{
  "nbformat": 4,
  "nbformat_minor": 0,
  "metadata": {
    "colab": {
      "name": "Feature Columns.ipynb",
      "provenance": [],
      "include_colab_link": true
    },
    "kernelspec": {
      "name": "python3",
      "display_name": "Python 3"
    }
  },
  "cells": [
    {
      "cell_type": "markdown",
      "metadata": {
        "id": "view-in-github",
        "colab_type": "text"
      },
      "source": [
        "<a href=\"https://colab.research.google.com/github/duttapratikcsc/NPTEL/blob/master/Structured_Data/Feature_Columns.ipynb\" target=\"_parent\"><img src=\"https://colab.research.google.com/assets/colab-badge.svg\" alt=\"Open In Colab\"/></a>"
      ]
    },
    {
      "cell_type": "code",
      "metadata": {
        "id": "3SP3X4OAaex7",
        "colab_type": "code",
        "colab": {}
      },
      "source": [
        "!pip install sklearn\n",
        "!pip install tensorflow==2.0.0-beta1"
      ],
      "execution_count": 0,
      "outputs": []
    },
    {
      "cell_type": "code",
      "metadata": {
        "id": "AXMrNCk1cDTP",
        "colab_type": "code",
        "colab": {}
      },
      "source": [
        "from __future__ import absolute_import, division, print_function, unicode_literals\n",
        "\n",
        "import numpy as np\n",
        "import pandas as pd\n",
        "import tensorflow as tf\n",
        "\n",
        "from tensorflow import feature_column, keras\n",
        "from tensorflow.keras import layers\n",
        "from sklearn.model_selection import train_test_split\n"
      ],
      "execution_count": 0,
      "outputs": []
    },
    {
      "cell_type": "markdown",
      "metadata": {
        "id": "RCZFatyVdQ86",
        "colab_type": "text"
      },
      "source": [
        "# **Use Pandas to create a dataframe**"
      ]
    },
    {
      "cell_type": "code",
      "metadata": {
        "id": "57ZevJMqdXEH",
        "colab_type": "code",
        "outputId": "afbd4c9a-9f84-4897-8b3e-3a14bef5c205",
        "colab": {
          "base_uri": "https://localhost:8080/",
          "height": 206
        }
      },
      "source": [
        "URL = \"https://storage.googleapis.com/applied-dl/heart.csv\"\n",
        "dataframe = pd.read_csv(URL)\n",
        "dataframe.head()"
      ],
      "execution_count": 3,
      "outputs": [
        {
          "output_type": "execute_result",
          "data": {
            "text/html": [
              "<div>\n",
              "<style scoped>\n",
              "    .dataframe tbody tr th:only-of-type {\n",
              "        vertical-align: middle;\n",
              "    }\n",
              "\n",
              "    .dataframe tbody tr th {\n",
              "        vertical-align: top;\n",
              "    }\n",
              "\n",
              "    .dataframe thead th {\n",
              "        text-align: right;\n",
              "    }\n",
              "</style>\n",
              "<table border=\"1\" class=\"dataframe\">\n",
              "  <thead>\n",
              "    <tr style=\"text-align: right;\">\n",
              "      <th></th>\n",
              "      <th>age</th>\n",
              "      <th>sex</th>\n",
              "      <th>cp</th>\n",
              "      <th>trestbps</th>\n",
              "      <th>chol</th>\n",
              "      <th>fbs</th>\n",
              "      <th>restecg</th>\n",
              "      <th>thalach</th>\n",
              "      <th>exang</th>\n",
              "      <th>oldpeak</th>\n",
              "      <th>slope</th>\n",
              "      <th>ca</th>\n",
              "      <th>thal</th>\n",
              "      <th>target</th>\n",
              "    </tr>\n",
              "  </thead>\n",
              "  <tbody>\n",
              "    <tr>\n",
              "      <th>0</th>\n",
              "      <td>63</td>\n",
              "      <td>1</td>\n",
              "      <td>1</td>\n",
              "      <td>145</td>\n",
              "      <td>233</td>\n",
              "      <td>1</td>\n",
              "      <td>2</td>\n",
              "      <td>150</td>\n",
              "      <td>0</td>\n",
              "      <td>2.3</td>\n",
              "      <td>3</td>\n",
              "      <td>0</td>\n",
              "      <td>fixed</td>\n",
              "      <td>0</td>\n",
              "    </tr>\n",
              "    <tr>\n",
              "      <th>1</th>\n",
              "      <td>67</td>\n",
              "      <td>1</td>\n",
              "      <td>4</td>\n",
              "      <td>160</td>\n",
              "      <td>286</td>\n",
              "      <td>0</td>\n",
              "      <td>2</td>\n",
              "      <td>108</td>\n",
              "      <td>1</td>\n",
              "      <td>1.5</td>\n",
              "      <td>2</td>\n",
              "      <td>3</td>\n",
              "      <td>normal</td>\n",
              "      <td>1</td>\n",
              "    </tr>\n",
              "    <tr>\n",
              "      <th>2</th>\n",
              "      <td>67</td>\n",
              "      <td>1</td>\n",
              "      <td>4</td>\n",
              "      <td>120</td>\n",
              "      <td>229</td>\n",
              "      <td>0</td>\n",
              "      <td>2</td>\n",
              "      <td>129</td>\n",
              "      <td>1</td>\n",
              "      <td>2.6</td>\n",
              "      <td>2</td>\n",
              "      <td>2</td>\n",
              "      <td>reversible</td>\n",
              "      <td>0</td>\n",
              "    </tr>\n",
              "    <tr>\n",
              "      <th>3</th>\n",
              "      <td>37</td>\n",
              "      <td>1</td>\n",
              "      <td>3</td>\n",
              "      <td>130</td>\n",
              "      <td>250</td>\n",
              "      <td>0</td>\n",
              "      <td>0</td>\n",
              "      <td>187</td>\n",
              "      <td>0</td>\n",
              "      <td>3.5</td>\n",
              "      <td>3</td>\n",
              "      <td>0</td>\n",
              "      <td>normal</td>\n",
              "      <td>0</td>\n",
              "    </tr>\n",
              "    <tr>\n",
              "      <th>4</th>\n",
              "      <td>41</td>\n",
              "      <td>0</td>\n",
              "      <td>2</td>\n",
              "      <td>130</td>\n",
              "      <td>204</td>\n",
              "      <td>0</td>\n",
              "      <td>2</td>\n",
              "      <td>172</td>\n",
              "      <td>0</td>\n",
              "      <td>1.4</td>\n",
              "      <td>1</td>\n",
              "      <td>0</td>\n",
              "      <td>normal</td>\n",
              "      <td>0</td>\n",
              "    </tr>\n",
              "  </tbody>\n",
              "</table>\n",
              "</div>"
            ],
            "text/plain": [
              "   age  sex  cp  trestbps  chol  ...  oldpeak  slope  ca        thal  target\n",
              "0   63    1   1       145   233  ...      2.3      3   0       fixed       0\n",
              "1   67    1   4       160   286  ...      1.5      2   3      normal       1\n",
              "2   67    1   4       120   229  ...      2.6      2   2  reversible       0\n",
              "3   37    1   3       130   250  ...      3.5      3   0      normal       0\n",
              "4   41    0   2       130   204  ...      1.4      1   0      normal       0\n",
              "\n",
              "[5 rows x 14 columns]"
            ]
          },
          "metadata": {
            "tags": []
          },
          "execution_count": 3
        }
      ]
    },
    {
      "cell_type": "markdown",
      "metadata": {
        "id": "ejX0KSkfhvWy",
        "colab_type": "text"
      },
      "source": [
        "# **Split the dataframe into train, validation, and test**"
      ]
    },
    {
      "cell_type": "code",
      "metadata": {
        "id": "FQvtH5VyfSsJ",
        "colab_type": "code",
        "outputId": "337bbee5-067a-412c-ccef-8f0c53d46f94",
        "colab": {
          "base_uri": "https://localhost:8080/",
          "height": 72
        }
      },
      "source": [
        "  train, test = train_test_split(dataframe, test_size=0.2)\n",
        "  train, val = train_test_split(train, test_size=0.2)\n",
        "  print(len(train), 'train examples')\n",
        "  print(len(val), 'validation examples')\n",
        "  print(len(test), 'test examples')"
      ],
      "execution_count": 4,
      "outputs": [
        {
          "output_type": "stream",
          "text": [
            "193 train examples\n",
            "49 validation examples\n",
            "61 test examples\n"
          ],
          "name": "stdout"
        }
      ]
    },
    {
      "cell_type": "markdown",
      "metadata": {
        "id": "CQXmHjM5jS5Z",
        "colab_type": "text"
      },
      "source": [
        "# **Create an input pipeline using tf.data**"
      ]
    },
    {
      "cell_type": "code",
      "metadata": {
        "id": "mpiuL8i8jf8I",
        "colab_type": "code",
        "colab": {}
      },
      "source": [
        "#A Utility method to create a tf.data dataset from a Pandas Dataframe\n",
        "def df_to_dataset(dataframe, shuffle=True, batch_size=32):\n",
        "  dataframe = dataframe.copy()\n",
        "  labels = dataframe.pop('target')\n",
        "  ds = tf.data.Dataset.from_tensor_slices((dict(dataframe),labels))\n",
        "  if shuffle:\n",
        "    ds = ds.shuffle(buffer_size=len(dataframe))\n",
        "  ds = ds.batch(batch_size)\n",
        "  return ds \n"
      ],
      "execution_count": 0,
      "outputs": []
    },
    {
      "cell_type": "markdown",
      "metadata": {
        "id": "Bwqk-CJJkpin",
        "colab_type": "text"
      },
      "source": [
        "Let's Understand what this function is doing:\n",
        "\n",
        "\n",
        "1.   Copy the input dataframe so that the changes are not persisted.\n",
        "2.   Pop the label column from the dataframe with pop method, which returns the label column and remove it from the dataframe.\n",
        "3.   Create dataset from tensor slices. The tensor slices are created by obtaining dictionary representation of the dataframe and the label column.\n",
        "4.   Shuffle the dataset in case needed.\n",
        "5.   Get a batch of tensors of specified size and return it.\n",
        "\n",
        "\n",
        "\n",
        "\n",
        "\n",
        "\n"
      ]
    },
    {
      "cell_type": "code",
      "metadata": {
        "id": "3dXTnHw-lrdw",
        "colab_type": "code",
        "colab": {}
      },
      "source": [
        "batch_size = 5 # A small batch size is used for demonstration purposes\n",
        "train_ds = df_to_dataset(train, batch_size=batch_size)\n",
        "val_ds = df_to_dataset(val, shuffle=False, batch_size=batch_size)\n",
        "test_ds = df_to_dataset(train, shuffle=False, batch_size=batch_size)"
      ],
      "execution_count": 0,
      "outputs": []
    },
    {
      "cell_type": "code",
      "metadata": {
        "id": "2iDvtVv3EfqJ",
        "colab_type": "code",
        "colab": {}
      },
      "source": [
        "x , y = next(iter(train_ds))"
      ],
      "execution_count": 0,
      "outputs": []
    },
    {
      "cell_type": "code",
      "metadata": {
        "id": "NaCH1wENEoiw",
        "colab_type": "code",
        "colab": {
          "base_uri": "https://localhost:8080/",
          "height": 293
        },
        "outputId": "2d5e17c3-2167-49ca-82aa-2884aba1a27d"
      },
      "source": [
        "x"
      ],
      "execution_count": 30,
      "outputs": [
        {
          "output_type": "execute_result",
          "data": {
            "text/plain": [
              "{'age': <tf.Tensor: id=367, shape=(5,), dtype=int32, numpy=array([49, 54, 42, 54, 41], dtype=int32)>,\n",
              " 'ca': <tf.Tensor: id=368, shape=(5,), dtype=int32, numpy=array([3, 1, 0, 1, 0], dtype=int32)>,\n",
              " 'chol': <tf.Tensor: id=369, shape=(5,), dtype=int32, numpy=array([149, 188, 265, 201, 157], dtype=int32)>,\n",
              " 'cp': <tf.Tensor: id=370, shape=(5,), dtype=int32, numpy=array([3, 4, 4, 3, 2], dtype=int32)>,\n",
              " 'exang': <tf.Tensor: id=371, shape=(5,), dtype=int32, numpy=array([0, 0, 0, 0, 0], dtype=int32)>,\n",
              " 'fbs': <tf.Tensor: id=372, shape=(5,), dtype=int32, numpy=array([0, 0, 0, 0, 0], dtype=int32)>,\n",
              " 'oldpeak': <tf.Tensor: id=373, shape=(5,), dtype=float64, numpy=array([0.8, 1.4, 0.6, 0. , 0. ])>,\n",
              " 'restecg': <tf.Tensor: id=374, shape=(5,), dtype=int32, numpy=array([2, 0, 2, 0, 0], dtype=int32)>,\n",
              " 'sex': <tf.Tensor: id=375, shape=(5,), dtype=int32, numpy=array([1, 1, 0, 0, 1], dtype=int32)>,\n",
              " 'slope': <tf.Tensor: id=376, shape=(5,), dtype=int32, numpy=array([1, 2, 2, 1, 1], dtype=int32)>,\n",
              " 'thal': <tf.Tensor: id=377, shape=(5,), dtype=string, numpy=\n",
              " array([b'normal', b'reversible', b'normal', b'normal', b'normal'],\n",
              "       dtype=object)>,\n",
              " 'thalach': <tf.Tensor: id=378, shape=(5,), dtype=int32, numpy=array([126, 113, 122, 163, 182], dtype=int32)>,\n",
              " 'trestbps': <tf.Tensor: id=379, shape=(5,), dtype=int32, numpy=array([118, 120, 102, 160, 120], dtype=int32)>}"
            ]
          },
          "metadata": {
            "tags": []
          },
          "execution_count": 30
        }
      ]
    },
    {
      "cell_type": "code",
      "metadata": {
        "id": "hGx_UPI9Eq_a",
        "colab_type": "code",
        "colab": {
          "base_uri": "https://localhost:8080/",
          "height": 35
        },
        "outputId": "ac02ae56-e0e1-40dd-c684-4cf572696a3e"
      },
      "source": [
        "y"
      ],
      "execution_count": 31,
      "outputs": [
        {
          "output_type": "execute_result",
          "data": {
            "text/plain": [
              "<tf.Tensor: id=380, shape=(5,), dtype=int32, numpy=array([0, 1, 0, 0, 0], dtype=int32)>"
            ]
          },
          "metadata": {
            "tags": []
          },
          "execution_count": 31
        }
      ]
    },
    {
      "cell_type": "markdown",
      "metadata": {
        "id": "3_wJUMmenkSn",
        "colab_type": "text"
      },
      "source": [
        "# **Understand the input pipeline**"
      ]
    },
    {
      "cell_type": "code",
      "metadata": {
        "id": "R0-PzaJtnp7c",
        "colab_type": "code",
        "outputId": "d9bb3c5d-0387-485b-dddc-36fe5e28699c",
        "colab": {
          "base_uri": "https://localhost:8080/",
          "height": 72
        }
      },
      "source": [
        "for feature_batch, label_batch in train_ds.take(1):\n",
        "  print('Every feature:', list(feature_batch.keys()))\n",
        "  print('A batch of ages:', feature_batch['age'])\n",
        "  print('A batch of targets:', label_batch)"
      ],
      "execution_count": 27,
      "outputs": [
        {
          "output_type": "stream",
          "text": [
            "Every feature: ['age', 'sex', 'cp', 'trestbps', 'chol', 'fbs', 'restecg', 'thalach', 'exang', 'oldpeak', 'slope', 'ca', 'thal']\n",
            "A batch of ages: tf.Tensor([49 54 42 54 41], shape=(5,), dtype=int32)\n",
            "A batch of targets: tf.Tensor([0 1 0 0 0], shape=(5,), dtype=int32)\n"
          ],
          "name": "stdout"
        }
      ]
    },
    {
      "cell_type": "markdown",
      "metadata": {
        "id": "54XAaXzPE3cZ",
        "colab_type": "text"
      },
      "source": [
        "# **Demonstrate several types of feature column**"
      ]
    },
    {
      "cell_type": "code",
      "metadata": {
        "id": "C6TPB0f9E9Wv",
        "colab_type": "code",
        "colab": {
          "base_uri": "https://localhost:8080/",
          "height": 35
        },
        "outputId": "aad6956e-f41f-4c37-f53d-8eaf30252f5c"
      },
      "source": [
        "example_batch = next(iter(train_ds))[0]\n",
        "example_batch"
      ],
      "execution_count": 34,
      "outputs": [
        {
          "output_type": "execute_result",
          "data": {
            "text/plain": [
              "<tf.Tensor: id=465, shape=(5,), dtype=int32, numpy=array([0, 1, 0, 0, 0], dtype=int32)>"
            ]
          },
          "metadata": {
            "tags": []
          },
          "execution_count": 34
        }
      ]
    },
    {
      "cell_type": "code",
      "metadata": {
        "id": "R84eDPW3FQA4",
        "colab_type": "code",
        "colab": {}
      },
      "source": [
        "def demo(feature_column):\n",
        "  feature_layer = layers.DenseFeatures(feature_column)\n",
        "  print(feature_layer(example_batch).numpy())"
      ],
      "execution_count": 0,
      "outputs": []
    },
    {
      "cell_type": "markdown",
      "metadata": {
        "id": "02HcULjPFr7m",
        "colab_type": "text"
      },
      "source": [
        "### Numeric Column"
      ]
    },
    {
      "cell_type": "code",
      "metadata": {
        "id": "dy27JMkGFu02",
        "colab_type": "code",
        "colab": {}
      },
      "source": [
        ""
      ],
      "execution_count": 0,
      "outputs": []
    }
  ]
}