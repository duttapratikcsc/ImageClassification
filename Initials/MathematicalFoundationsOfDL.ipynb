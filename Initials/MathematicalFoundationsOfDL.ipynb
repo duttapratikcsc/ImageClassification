{
  "nbformat": 4,
  "nbformat_minor": 0,
  "metadata": {
    "colab": {
      "name": "MathematicalFoundationsOfDL.ipynb",
      "provenance": [],
      "include_colab_link": true
    },
    "kernelspec": {
      "name": "python3",
      "display_name": "Python 3"
    }
  },
  "cells": [
    {
      "cell_type": "markdown",
      "metadata": {
        "id": "view-in-github",
        "colab_type": "text"
      },
      "source": [
        "<a href=\"https://colab.research.google.com/github/duttapratikcsc/NPTEL/blob/master/Initials/MathematicalFoundationsOfDL.ipynb\" target=\"_parent\"><img src=\"https://colab.research.google.com/assets/colab-badge.svg\" alt=\"Open In Colab\"/></a>"
      ]
    },
    {
      "cell_type": "markdown",
      "metadata": {
        "id": "sBo1eeQd5KKH",
        "colab_type": "text"
      },
      "source": [
        "# **Data Representation for Deep Learning**"
      ]
    },
    {
      "cell_type": "code",
      "metadata": {
        "id": "TDbHmz0w4GnZ",
        "colab_type": "code",
        "colab": {}
      },
      "source": [
        "import numpy as np"
      ],
      "execution_count": 0,
      "outputs": []
    },
    {
      "cell_type": "code",
      "metadata": {
        "id": "3_b9tmY95bfU",
        "colab_type": "code",
        "colab": {
          "base_uri": "https://localhost:8080/",
          "height": 35
        },
        "outputId": "b80db160-7d00-4e47-a238-33e883cbfa6a"
      },
      "source": [
        "x = np.array(10)\n",
        "x"
      ],
      "execution_count": 5,
      "outputs": [
        {
          "output_type": "execute_result",
          "data": {
            "text/plain": [
              "array(10)"
            ]
          },
          "metadata": {
            "tags": []
          },
          "execution_count": 5
        }
      ]
    },
    {
      "cell_type": "code",
      "metadata": {
        "id": "qq1WucPm6QVi",
        "colab_type": "code",
        "colab": {
          "base_uri": "https://localhost:8080/",
          "height": 35
        },
        "outputId": "a0216b88-64bb-41fc-b6d9-28709b86a654"
      },
      "source": [
        "x.shape"
      ],
      "execution_count": 6,
      "outputs": [
        {
          "output_type": "execute_result",
          "data": {
            "text/plain": [
              "()"
            ]
          },
          "metadata": {
            "tags": []
          },
          "execution_count": 6
        }
      ]
    },
    {
      "cell_type": "code",
      "metadata": {
        "id": "KVzcStmX6UN3",
        "colab_type": "code",
        "colab": {
          "base_uri": "https://localhost:8080/",
          "height": 35
        },
        "outputId": "d79afe48-4811-4a1c-9004-a7e7ed4d63ce"
      },
      "source": [
        "x.ndim"
      ],
      "execution_count": 7,
      "outputs": [
        {
          "output_type": "execute_result",
          "data": {
            "text/plain": [
              "0"
            ]
          },
          "metadata": {
            "tags": []
          },
          "execution_count": 7
        }
      ]
    },
    {
      "cell_type": "code",
      "metadata": {
        "id": "9hmb5sDt6YRk",
        "colab_type": "code",
        "colab": {
          "base_uri": "https://localhost:8080/",
          "height": 35
        },
        "outputId": "523e0df2-5111-41e7-d893-a645d9c6cdc9"
      },
      "source": [
        "x.dtype"
      ],
      "execution_count": 9,
      "outputs": [
        {
          "output_type": "execute_result",
          "data": {
            "text/plain": [
              "dtype('int64')"
            ]
          },
          "metadata": {
            "tags": []
          },
          "execution_count": 9
        }
      ]
    },
    {
      "cell_type": "markdown",
      "metadata": {
        "id": "YP4ZNh1H6dKT",
        "colab_type": "text"
      },
      "source": [
        "# **Vectors (1D tensors)**"
      ]
    },
    {
      "cell_type": "code",
      "metadata": {
        "id": "QGYcvKBX6cmB",
        "colab_type": "code",
        "colab": {
          "base_uri": "https://localhost:8080/",
          "height": 35
        },
        "outputId": "c36c7dfc-881a-407e-c58f-d38084fd140b"
      },
      "source": [
        "x = np.array([4, 2, 5, 9])\n",
        "x.shape"
      ],
      "execution_count": 11,
      "outputs": [
        {
          "output_type": "execute_result",
          "data": {
            "text/plain": [
              "(4,)"
            ]
          },
          "metadata": {
            "tags": []
          },
          "execution_count": 11
        }
      ]
    },
    {
      "cell_type": "code",
      "metadata": {
        "id": "n379VrME66Hg",
        "colab_type": "code",
        "colab": {
          "base_uri": "https://localhost:8080/",
          "height": 35
        },
        "outputId": "73d416bd-3299-4379-b143-cd501bb6dc2f"
      },
      "source": [
        "x.ndim"
      ],
      "execution_count": 15,
      "outputs": [
        {
          "output_type": "execute_result",
          "data": {
            "text/plain": [
              "1"
            ]
          },
          "metadata": {
            "tags": []
          },
          "execution_count": 15
        }
      ]
    },
    {
      "cell_type": "code",
      "metadata": {
        "id": "_copcjlH67Sv",
        "colab_type": "code",
        "colab": {
          "base_uri": "https://localhost:8080/",
          "height": 35
        },
        "outputId": "73c2f3ee-60d7-485f-88f3-abe45cce1a38"
      },
      "source": [
        "x.dtype"
      ],
      "execution_count": 13,
      "outputs": [
        {
          "output_type": "execute_result",
          "data": {
            "text/plain": [
              "dtype('int64')"
            ]
          },
          "metadata": {
            "tags": []
          },
          "execution_count": 13
        }
      ]
    },
    {
      "cell_type": "markdown",
      "metadata": {
        "id": "vxjgQys97DOi",
        "colab_type": "text"
      },
      "source": [
        "# **Matrices (2D tensors)**"
      ]
    },
    {
      "cell_type": "code",
      "metadata": {
        "id": "Bh3gjKbM7IXq",
        "colab_type": "code",
        "colab": {
          "base_uri": "https://localhost:8080/",
          "height": 72
        },
        "outputId": "8f2f8bae-c0f7-4ab6-a5f0-f5b57c93a0d6"
      },
      "source": [
        "x = np.array([[1,2,3],\n",
        "              [4,5,6],\n",
        "              [7,8,9]])\n",
        "x"
      ],
      "execution_count": 19,
      "outputs": [
        {
          "output_type": "execute_result",
          "data": {
            "text/plain": [
              "array([[1, 2, 3],\n",
              "       [4, 5, 6],\n",
              "       [7, 8, 9]])"
            ]
          },
          "metadata": {
            "tags": []
          },
          "execution_count": 19
        }
      ]
    },
    {
      "cell_type": "code",
      "metadata": {
        "id": "gwnUQIwo7a5A",
        "colab_type": "code",
        "colab": {
          "base_uri": "https://localhost:8080/",
          "height": 35
        },
        "outputId": "efbe2d35-f808-4e55-e483-174c4b31fd41"
      },
      "source": [
        "x.shape"
      ],
      "execution_count": 20,
      "outputs": [
        {
          "output_type": "execute_result",
          "data": {
            "text/plain": [
              "(3, 3)"
            ]
          },
          "metadata": {
            "tags": []
          },
          "execution_count": 20
        }
      ]
    },
    {
      "cell_type": "markdown",
      "metadata": {
        "id": "qkRqw2997sXL",
        "colab_type": "text"
      },
      "source": [
        "# **Tensor in MNIST datasets**"
      ]
    },
    {
      "cell_type": "code",
      "metadata": {
        "id": "7PWDUEUF7z_Z",
        "colab_type": "code",
        "colab": {}
      },
      "source": [
        "from __future__ import absolute_import, print_function, division, unicode_literals\n",
        "!pip install tensorflow==2.0.0-beta1\n",
        "\n",
        "import tensorflow as tf\n"
      ],
      "execution_count": 0,
      "outputs": []
    },
    {
      "cell_type": "code",
      "metadata": {
        "id": "onH8jddI8X2V",
        "colab_type": "code",
        "colab": {
          "base_uri": "https://localhost:8080/",
          "height": 74
        },
        "outputId": "b89d284e-1f33-4a23-e342-e61efc08dfee"
      },
      "source": [
        "mnist = tf.keras.datasets.mnist\n",
        "(x_train, y_train), (x_test, y_test) = mnist.load_data()"
      ],
      "execution_count": 23,
      "outputs": [
        {
          "output_type": "stream",
          "text": [
            "Downloading data from https://storage.googleapis.com/tensorflow/tf-keras-datasets/mnist.npz\n",
            "11493376/11490434 [==============================] - 0s 0us/step\n"
          ],
          "name": "stdout"
        }
      ]
    },
    {
      "cell_type": "code",
      "metadata": {
        "id": "W53lVxWD8rVq",
        "colab_type": "code",
        "colab": {
          "base_uri": "https://localhost:8080/",
          "height": 127
        },
        "outputId": "72485a71-477f-4c9c-8ee8-7eb0a2e75c4e"
      },
      "source": [
        "print(\"In Training Data\\n****************\\n\")\n",
        "print(\"Number of axes in tensor = %d\" %x_train.ndim)\n",
        "print(\"Shape of tensor = \", x_train.shape)\n",
        "print(\"Data type of tensor elements = %s\" %x_train.dtype)"
      ],
      "execution_count": 30,
      "outputs": [
        {
          "output_type": "stream",
          "text": [
            "In Training Data\n",
            "****************\n",
            "\n",
            "Number of axes in tensor = 3\n",
            "Shape of tensor =  (60000, 28, 28)\n",
            "Data type of tensor elements = uint8\n"
          ],
          "name": "stdout"
        }
      ]
    },
    {
      "cell_type": "code",
      "metadata": {
        "id": "VOSWMJ139jJO",
        "colab_type": "code",
        "colab": {
          "base_uri": "https://localhost:8080/",
          "height": 127
        },
        "outputId": "c6c72c31-7a61-4254-ceb9-25f353b01f3f"
      },
      "source": [
        "print(\"In Training Label\\n*****************\\n\")\n",
        "print(\"Number of axes in tensor = %d\" %y_train.ndim)\n",
        "print(\"Shape of tensor = \", y_train.shape)\n",
        "print(\"Data type of tensor elements = %s\" %y_train.dtype)"
      ],
      "execution_count": 31,
      "outputs": [
        {
          "output_type": "stream",
          "text": [
            "In Training Label\n",
            "*****************\n",
            "\n",
            "Number of axes in tensor = 1\n",
            "Shape of tensor =  (60000,)\n",
            "Data type of tensor elements = uint8\n"
          ],
          "name": "stdout"
        }
      ]
    },
    {
      "cell_type": "markdown",
      "metadata": {
        "id": "jPMQZVp59sPp",
        "colab_type": "text"
      },
      "source": [
        "# **Data Selection (Tensor Slicing)**\n",
        "\n",
        "## Selecting a Single data point"
      ]
    },
    {
      "cell_type": "code",
      "metadata": {
        "id": "9sz4GyhX9xmM",
        "colab_type": "code",
        "colab": {
          "base_uri": "https://localhost:8080/",
          "height": 1000
        },
        "outputId": "10e11bab-a872-4811-d9f1-a5481d1ab222"
      },
      "source": [
        "x_1 = x_train[0]\n",
        "x_1"
      ],
      "execution_count": 33,
      "outputs": [
        {
          "output_type": "execute_result",
          "data": {
            "text/plain": [
              "array([[  0,   0,   0,   0,   0,   0,   0,   0,   0,   0,   0,   0,   0,\n",
              "          0,   0,   0,   0,   0,   0,   0,   0,   0,   0,   0,   0,   0,\n",
              "          0,   0],\n",
              "       [  0,   0,   0,   0,   0,   0,   0,   0,   0,   0,   0,   0,   0,\n",
              "          0,   0,   0,   0,   0,   0,   0,   0,   0,   0,   0,   0,   0,\n",
              "          0,   0],\n",
              "       [  0,   0,   0,   0,   0,   0,   0,   0,   0,   0,   0,   0,   0,\n",
              "          0,   0,   0,   0,   0,   0,   0,   0,   0,   0,   0,   0,   0,\n",
              "          0,   0],\n",
              "       [  0,   0,   0,   0,   0,   0,   0,   0,   0,   0,   0,   0,   0,\n",
              "          0,   0,   0,   0,   0,   0,   0,   0,   0,   0,   0,   0,   0,\n",
              "          0,   0],\n",
              "       [  0,   0,   0,   0,   0,   0,   0,   0,   0,   0,   0,   0,   0,\n",
              "          0,   0,   0,   0,   0,   0,   0,   0,   0,   0,   0,   0,   0,\n",
              "          0,   0],\n",
              "       [  0,   0,   0,   0,   0,   0,   0,   0,   0,   0,   0,   0,   3,\n",
              "         18,  18,  18, 126, 136, 175,  26, 166, 255, 247, 127,   0,   0,\n",
              "          0,   0],\n",
              "       [  0,   0,   0,   0,   0,   0,   0,   0,  30,  36,  94, 154, 170,\n",
              "        253, 253, 253, 253, 253, 225, 172, 253, 242, 195,  64,   0,   0,\n",
              "          0,   0],\n",
              "       [  0,   0,   0,   0,   0,   0,   0,  49, 238, 253, 253, 253, 253,\n",
              "        253, 253, 253, 253, 251,  93,  82,  82,  56,  39,   0,   0,   0,\n",
              "          0,   0],\n",
              "       [  0,   0,   0,   0,   0,   0,   0,  18, 219, 253, 253, 253, 253,\n",
              "        253, 198, 182, 247, 241,   0,   0,   0,   0,   0,   0,   0,   0,\n",
              "          0,   0],\n",
              "       [  0,   0,   0,   0,   0,   0,   0,   0,  80, 156, 107, 253, 253,\n",
              "        205,  11,   0,  43, 154,   0,   0,   0,   0,   0,   0,   0,   0,\n",
              "          0,   0],\n",
              "       [  0,   0,   0,   0,   0,   0,   0,   0,   0,  14,   1, 154, 253,\n",
              "         90,   0,   0,   0,   0,   0,   0,   0,   0,   0,   0,   0,   0,\n",
              "          0,   0],\n",
              "       [  0,   0,   0,   0,   0,   0,   0,   0,   0,   0,   0, 139, 253,\n",
              "        190,   2,   0,   0,   0,   0,   0,   0,   0,   0,   0,   0,   0,\n",
              "          0,   0],\n",
              "       [  0,   0,   0,   0,   0,   0,   0,   0,   0,   0,   0,  11, 190,\n",
              "        253,  70,   0,   0,   0,   0,   0,   0,   0,   0,   0,   0,   0,\n",
              "          0,   0],\n",
              "       [  0,   0,   0,   0,   0,   0,   0,   0,   0,   0,   0,   0,  35,\n",
              "        241, 225, 160, 108,   1,   0,   0,   0,   0,   0,   0,   0,   0,\n",
              "          0,   0],\n",
              "       [  0,   0,   0,   0,   0,   0,   0,   0,   0,   0,   0,   0,   0,\n",
              "         81, 240, 253, 253, 119,  25,   0,   0,   0,   0,   0,   0,   0,\n",
              "          0,   0],\n",
              "       [  0,   0,   0,   0,   0,   0,   0,   0,   0,   0,   0,   0,   0,\n",
              "          0,  45, 186, 253, 253, 150,  27,   0,   0,   0,   0,   0,   0,\n",
              "          0,   0],\n",
              "       [  0,   0,   0,   0,   0,   0,   0,   0,   0,   0,   0,   0,   0,\n",
              "          0,   0,  16,  93, 252, 253, 187,   0,   0,   0,   0,   0,   0,\n",
              "          0,   0],\n",
              "       [  0,   0,   0,   0,   0,   0,   0,   0,   0,   0,   0,   0,   0,\n",
              "          0,   0,   0,   0, 249, 253, 249,  64,   0,   0,   0,   0,   0,\n",
              "          0,   0],\n",
              "       [  0,   0,   0,   0,   0,   0,   0,   0,   0,   0,   0,   0,   0,\n",
              "          0,  46, 130, 183, 253, 253, 207,   2,   0,   0,   0,   0,   0,\n",
              "          0,   0],\n",
              "       [  0,   0,   0,   0,   0,   0,   0,   0,   0,   0,   0,   0,  39,\n",
              "        148, 229, 253, 253, 253, 250, 182,   0,   0,   0,   0,   0,   0,\n",
              "          0,   0],\n",
              "       [  0,   0,   0,   0,   0,   0,   0,   0,   0,   0,  24, 114, 221,\n",
              "        253, 253, 253, 253, 201,  78,   0,   0,   0,   0,   0,   0,   0,\n",
              "          0,   0],\n",
              "       [  0,   0,   0,   0,   0,   0,   0,   0,  23,  66, 213, 253, 253,\n",
              "        253, 253, 198,  81,   2,   0,   0,   0,   0,   0,   0,   0,   0,\n",
              "          0,   0],\n",
              "       [  0,   0,   0,   0,   0,   0,  18, 171, 219, 253, 253, 253, 253,\n",
              "        195,  80,   9,   0,   0,   0,   0,   0,   0,   0,   0,   0,   0,\n",
              "          0,   0],\n",
              "       [  0,   0,   0,   0,  55, 172, 226, 253, 253, 253, 253, 244, 133,\n",
              "         11,   0,   0,   0,   0,   0,   0,   0,   0,   0,   0,   0,   0,\n",
              "          0,   0],\n",
              "       [  0,   0,   0,   0, 136, 253, 253, 253, 212, 135, 132,  16,   0,\n",
              "          0,   0,   0,   0,   0,   0,   0,   0,   0,   0,   0,   0,   0,\n",
              "          0,   0],\n",
              "       [  0,   0,   0,   0,   0,   0,   0,   0,   0,   0,   0,   0,   0,\n",
              "          0,   0,   0,   0,   0,   0,   0,   0,   0,   0,   0,   0,   0,\n",
              "          0,   0],\n",
              "       [  0,   0,   0,   0,   0,   0,   0,   0,   0,   0,   0,   0,   0,\n",
              "          0,   0,   0,   0,   0,   0,   0,   0,   0,   0,   0,   0,   0,\n",
              "          0,   0],\n",
              "       [  0,   0,   0,   0,   0,   0,   0,   0,   0,   0,   0,   0,   0,\n",
              "          0,   0,   0,   0,   0,   0,   0,   0,   0,   0,   0,   0,   0,\n",
              "          0,   0]], dtype=uint8)"
            ]
          },
          "metadata": {
            "tags": []
          },
          "execution_count": 33
        }
      ]
    },
    {
      "cell_type": "code",
      "metadata": {
        "id": "Rfl2SdaG-Pey",
        "colab_type": "code",
        "colab": {
          "base_uri": "https://localhost:8080/",
          "height": 265
        },
        "outputId": "93957678-c0b2-4035-f9c1-5ad0e5dadebd"
      },
      "source": [
        "import matplotlib.pyplot as plt\n",
        "\n",
        "def display_image(img):\n",
        "  plt.imshow(img, cmap=plt.cm.binary)\n",
        "  plt.show()\n",
        "\n",
        "display_image(x_1)"
      ],
      "execution_count": 35,
      "outputs": [
        {
          "output_type": "display_data",
          "data": {
            "image/png": "[encoded data removed]",
            "text/plain": [
              "<Figure size 432x288 with 1 Axes>"
            ]
          },
          "metadata": {
            "tags": []
          }
        }
      ]
    },
    {
      "cell_type": "markdown",
      "metadata": {
        "id": "wsI3lqR4-rHM",
        "colab_type": "text"
      },
      "source": [
        "## Select Multiple Data points"
      ]
    },
    {
      "cell_type": "code",
      "metadata": {
        "id": "pCBle-cd-wTH",
        "colab_type": "code",
        "colab": {
          "base_uri": "https://localhost:8080/",
          "height": 127
        },
        "outputId": "bdfd9a8c-f544-491a-cee7-946c8a54971d"
      },
      "source": [
        "x_train_slice = x_train[10:100]\n",
        "print(\"In Training Data\\n****************\\n\")\n",
        "print(\"Number of axes in tensor = %d\" %x_train_slice.ndim)\n",
        "print(\"Shape of tensor = \", x_train_slice.shape)\n",
        "print(\"Data type of tensor elements = %s\" %x_train_slice.dtype)"
      ],
      "execution_count": 36,
      "outputs": [
        {
          "output_type": "stream",
          "text": [
            "In Training Data\n",
            "****************\n",
            "\n",
            "Number of axes in tensor = 3\n",
            "Shape of tensor =  (90, 28, 28)\n",
            "Data type of tensor elements = uint8\n"
          ],
          "name": "stdout"
        }
      ]
    },
    {
      "cell_type": "code",
      "metadata": {
        "id": "fpZG8is8_INc",
        "colab_type": "code",
        "colab": {
          "base_uri": "https://localhost:8080/",
          "height": 127
        },
        "outputId": "c42d3e42-8736-4df9-ace3-4c963e2ad3f9"
      },
      "source": [
        "x_train_slice = x_train[10:100,:,:]\n",
        "print(\"In Training Data\\n****************\\n\")\n",
        "print(\"Number of axes in tensor = %d\" %x_train_slice.ndim)\n",
        "print(\"Shape of tensor = \", x_train_slice.shape)\n",
        "print(\"Data type of tensor elements = %s\" %x_train_slice.dtype)"
      ],
      "execution_count": 37,
      "outputs": [
        {
          "output_type": "stream",
          "text": [
            "In Training Data\n",
            "****************\n",
            "\n",
            "Number of axes in tensor = 3\n",
            "Shape of tensor =  (90, 28, 28)\n",
            "Data type of tensor elements = uint8\n"
          ],
          "name": "stdout"
        }
      ]
    },
    {
      "cell_type": "code",
      "metadata": {
        "id": "tbExgift_K89",
        "colab_type": "code",
        "colab": {
          "base_uri": "https://localhost:8080/",
          "height": 127
        },
        "outputId": "6930702c-0486-4878-c03f-4fd75c80f998"
      },
      "source": [
        "x_train_slice = x_train[10:100,0:28,:28]\n",
        "print(\"In Training Data\\n****************\\n\")\n",
        "print(\"Number of axes in tensor = %d\" %x_train_slice.ndim)\n",
        "print(\"Shape of tensor = \", x_train_slice.shape)\n",
        "print(\"Data type of tensor elements = %s\" %x_train_slice.dtype)"
      ],
      "execution_count": 40,
      "outputs": [
        {
          "output_type": "stream",
          "text": [
            "In Training Data\n",
            "****************\n",
            "\n",
            "Number of axes in tensor = 3\n",
            "Shape of tensor =  (90, 28, 28)\n",
            "Data type of tensor elements = uint8\n"
          ],
          "name": "stdout"
        }
      ]
    },
    {
      "cell_type": "code",
      "metadata": {
        "id": "rgfSNIlo_cF3",
        "colab_type": "code",
        "colab": {
          "base_uri": "https://localhost:8080/",
          "height": 127
        },
        "outputId": "8f6f262d-114d-4476-ca91-5399e5565fe7"
      },
      "source": [
        "x_train_slice = x_train[:,0:14,:14]\n",
        "print(\"In Training Data\\n****************\\n\")\n",
        "print(\"Number of axes in tensor = %d\" %x_train_slice.ndim)\n",
        "print(\"Shape of tensor = \", x_train_slice.shape)\n",
        "print(\"Data type of tensor elements = %s\" %x_train_slice.dtype)"
      ],
      "execution_count": 41,
      "outputs": [
        {
          "output_type": "stream",
          "text": [
            "In Training Data\n",
            "****************\n",
            "\n",
            "Number of axes in tensor = 3\n",
            "Shape of tensor =  (60000, 14, 14)\n",
            "Data type of tensor elements = uint8\n"
          ],
          "name": "stdout"
        }
      ]
    },
    {
      "cell_type": "markdown",
      "metadata": {
        "id": "ZCXnM5Zr_npz",
        "colab_type": "text"
      },
      "source": [
        "## **Crop from middle**"
      ]
    },
    {
      "cell_type": "code",
      "metadata": {
        "id": "411cWu0y_kpE",
        "colab_type": "code",
        "colab": {
          "base_uri": "https://localhost:8080/",
          "height": 127
        },
        "outputId": "034ad3cd-5b98-4219-a098-7139c088d072"
      },
      "source": [
        "x_train_slice = x_train[:,7:-7,7:-7]\n",
        "print(\"In Training Data\\n****************\\n\")\n",
        "print(\"Number of axes in tensor = %d\" %x_train_slice.ndim)\n",
        "print(\"Shape of tensor = \", x_train_slice.shape)\n",
        "print(\"Data type of tensor elements = %s\" %x_train_slice.dtype)"
      ],
      "execution_count": 42,
      "outputs": [
        {
          "output_type": "stream",
          "text": [
            "In Training Data\n",
            "****************\n",
            "\n",
            "Number of axes in tensor = 3\n",
            "Shape of tensor =  (60000, 14, 14)\n",
            "Data type of tensor elements = uint8\n"
          ],
          "name": "stdout"
        }
      ]
    },
    {
      "cell_type": "markdown",
      "metadata": {
        "id": "EU63e0p-_wcj",
        "colab_type": "text"
      },
      "source": [
        "# **Data Batches**"
      ]
    },
    {
      "cell_type": "code",
      "metadata": {
        "id": "W-9uU6fT_tpA",
        "colab_type": "code",
        "colab": {
          "base_uri": "https://localhost:8080/",
          "height": 127
        },
        "outputId": "8b4f2bbb-bc27-4f77-f6b3-a920773059b2"
      },
      "source": [
        "batch_1 = x_train[:128]\n",
        "print(\"In Training Data\\n****************\\n\")\n",
        "print(\"Number of axes in tensor = %d\" %batch_1.ndim)\n",
        "print(\"Shape of tensor = \", batch_1.shape)\n",
        "print(\"Data type of tensor elements = %s\" %batch_1.dtype)"
      ],
      "execution_count": 45,
      "outputs": [
        {
          "output_type": "stream",
          "text": [
            "In Training Data\n",
            "****************\n",
            "\n",
            "Number of axes in tensor = 3\n",
            "Shape of tensor =  (128, 28, 28)\n",
            "Data type of tensor elements = uint8\n"
          ],
          "name": "stdout"
        }
      ]
    },
    {
      "cell_type": "code",
      "metadata": {
        "id": "2LNr0Bok_80A",
        "colab_type": "code",
        "colab": {
          "base_uri": "https://localhost:8080/",
          "height": 127
        },
        "outputId": "8c49198b-3aeb-4b9c-9b58-323eac17498a"
      },
      "source": [
        "batch_2 = x_train[128:2*128]\n",
        "print(\"In Training Data\\n****************\\n\")\n",
        "print(\"Number of axes in tensor = %d\" %batch_2.ndim)\n",
        "print(\"Shape of tensor = \", batch_2.shape)\n",
        "print(\"Data type of tensor elements = %s\" %batch_2.dtype)"
      ],
      "execution_count": 46,
      "outputs": [
        {
          "output_type": "stream",
          "text": [
            "In Training Data\n",
            "****************\n",
            "\n",
            "Number of axes in tensor = 3\n",
            "Shape of tensor =  (128, 28, 28)\n",
            "Data type of tensor elements = uint8\n"
          ],
          "name": "stdout"
        }
      ]
    }
  ]
}