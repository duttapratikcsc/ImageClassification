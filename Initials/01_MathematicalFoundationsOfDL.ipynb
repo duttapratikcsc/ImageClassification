{
  "nbformat": 4,
  "nbformat_minor": 0,
  "metadata": {
    "colab": {
      "name": "MathematicalFoundationsOfDL.ipynb",
      "provenance": [],
      "include_colab_link": true
    },
    "kernelspec": {
      "name": "python3",
      "display_name": "Python 3"
    }
  },
  "cells": [
    {
      "cell_type": "markdown",
      "metadata": {
        "id": "view-in-github",
        "colab_type": "text"
      },
      "source": [
        "<a href=\"https://colab.research.google.com/github/duttapratikcsc/NPTEL/blob/master/Initials/01_MathematicalFoundationsOfDL.ipynb\" target=\"_parent\"><img src=\"https://colab.research.google.com/assets/colab-badge.svg\" alt=\"Open In Colab\"/></a>"
      ]
    },
    {
      "cell_type": "markdown",
      "metadata": {
        "id": "sBo1eeQd5KKH",
        "colab_type": "text"
      },
      "source": [
        "# **Data Representation for Deep Learning**"
      ]
    },
    {
      "cell_type": "code",
      "metadata": {
        "id": "TDbHmz0w4GnZ",
        "colab_type": "code",
        "colab": {}
      },
      "source": [
        "import numpy as np"
      ],
      "execution_count": 0,
      "outputs": []
    },
    {
      "cell_type": "code",
      "metadata": {
        "id": "3_b9tmY95bfU",
        "colab_type": "code",
        "outputId": "b80db160-7d00-4e47-a238-33e883cbfa6a",
        "colab": {
          "base_uri": "https://localhost:8080/",
          "height": 35
        }
      },
      "source": [
        "x = np.array(10)\n",
        "x"
      ],
      "execution_count": 0,
      "outputs": [
        {
          "output_type": "execute_result",
          "data": {
            "text/plain": [
              "array(10)"
            ]
          },
          "metadata": {
            "tags": []
          },
          "execution_count": 5
        }
      ]
    },
    {
      "cell_type": "code",
      "metadata": {
        "id": "qq1WucPm6QVi",
        "colab_type": "code",
        "outputId": "a0216b88-64bb-41fc-b6d9-28709b86a654",
        "colab": {
          "base_uri": "https://localhost:8080/",
          "height": 35
        }
      },
      "source": [
        "x.shape"
      ],
      "execution_count": 0,
      "outputs": [
        {
          "output_type": "execute_result",
          "data": {
            "text/plain": [
              "()"
            ]
          },
          "metadata": {
            "tags": []
          },
          "execution_count": 6
        }
      ]
    },
    {
      "cell_type": "code",
      "metadata": {
        "id": "KVzcStmX6UN3",
        "colab_type": "code",
        "outputId": "d79afe48-4811-4a1c-9004-a7e7ed4d63ce",
        "colab": {
          "base_uri": "https://localhost:8080/",
          "height": 35
        }
      },
      "source": [
        "x.ndim"
      ],
      "execution_count": 0,
      "outputs": [
        {
          "output_type": "execute_result",
          "data": {
            "text/plain": [
              "0"
            ]
          },
          "metadata": {
            "tags": []
          },
          "execution_count": 7
        }
      ]
    },
    {
      "cell_type": "code",
      "metadata": {
        "id": "9hmb5sDt6YRk",
        "colab_type": "code",
        "outputId": "523e0df2-5111-41e7-d893-a645d9c6cdc9",
        "colab": {
          "base_uri": "https://localhost:8080/",
          "height": 35
        }
      },
      "source": [
        "x.dtype"
      ],
      "execution_count": 0,
      "outputs": [
        {
          "output_type": "execute_result",
          "data": {
            "text/plain": [
              "dtype('int64')"
            ]
          },
          "metadata": {
            "tags": []
          },
          "execution_count": 9
        }
      ]
    },
    {
      "cell_type": "markdown",
      "metadata": {
        "id": "YP4ZNh1H6dKT",
        "colab_type": "text"
      },
      "source": [
        "# **Vectors (1D tensors)**"
      ]
    },
    {
      "cell_type": "code",
      "metadata": {
        "id": "QGYcvKBX6cmB",
        "colab_type": "code",
        "outputId": "c36c7dfc-881a-407e-c58f-d38084fd140b",
        "colab": {
          "base_uri": "https://localhost:8080/",
          "height": 35
        }
      },
      "source": [
        "x = np.array([4, 2, 5, 9])\n",
        "x.shape"
      ],
      "execution_count": 0,
      "outputs": [
        {
          "output_type": "execute_result",
          "data": {
            "text/plain": [
              "(4,)"
            ]
          },
          "metadata": {
            "tags": []
          },
          "execution_count": 11
        }
      ]
    },
    {
      "cell_type": "code",
      "metadata": {
        "id": "n379VrME66Hg",
        "colab_type": "code",
        "outputId": "73d416bd-3299-4379-b143-cd501bb6dc2f",
        "colab": {
          "base_uri": "https://localhost:8080/",
          "height": 35
        }
      },
      "source": [
        "x.ndim"
      ],
      "execution_count": 0,
      "outputs": [
        {
          "output_type": "execute_result",
          "data": {
            "text/plain": [
              "1"
            ]
          },
          "metadata": {
            "tags": []
          },
          "execution_count": 15
        }
      ]
    },
    {
      "cell_type": "code",
      "metadata": {
        "id": "_copcjlH67Sv",
        "colab_type": "code",
        "outputId": "73c2f3ee-60d7-485f-88f3-abe45cce1a38",
        "colab": {
          "base_uri": "https://localhost:8080/",
          "height": 35
        }
      },
      "source": [
        "x.dtype"
      ],
      "execution_count": 0,
      "outputs": [
        {
          "output_type": "execute_result",
          "data": {
            "text/plain": [
              "dtype('int64')"
            ]
          },
          "metadata": {
            "tags": []
          },
          "execution_count": 13
        }
      ]
    },
    {
      "cell_type": "markdown",
      "metadata": {
        "id": "vxjgQys97DOi",
        "colab_type": "text"
      },
      "source": [
        "# **Matrices (2D tensors)**"
      ]
    },
    {
      "cell_type": "code",
      "metadata": {
        "id": "Bh3gjKbM7IXq",
        "colab_type": "code",
        "outputId": "8f2f8bae-c0f7-4ab6-a5f0-f5b57c93a0d6",
        "colab": {
          "base_uri": "https://localhost:8080/",
          "height": 72
        }
      },
      "source": [
        "x = np.array([[1,2,3],\n",
        "              [4,5,6],\n",
        "              [7,8,9]])\n",
        "x"
      ],
      "execution_count": 0,
      "outputs": [
        {
          "output_type": "execute_result",
          "data": {
            "text/plain": [
              "array([[1, 2, 3],\n",
              "       [4, 5, 6],\n",
              "       [7, 8, 9]])"
            ]
          },
          "metadata": {
            "tags": []
          },
          "execution_count": 19
        }
      ]
    },
    {
      "cell_type": "code",
      "metadata": {
        "id": "gwnUQIwo7a5A",
        "colab_type": "code",
        "outputId": "efbe2d35-f808-4e55-e483-174c4b31fd41",
        "colab": {
          "base_uri": "https://localhost:8080/",
          "height": 35
        }
      },
      "source": [
        "x.shape"
      ],
      "execution_count": 0,
      "outputs": [
        {
          "output_type": "execute_result",
          "data": {
            "text/plain": [
              "(3, 3)"
            ]
          },
          "metadata": {
            "tags": []
          },
          "execution_count": 20
        }
      ]
    },
    {
      "cell_type": "markdown",
      "metadata": {
        "id": "qkRqw2997sXL",
        "colab_type": "text"
      },
      "source": [
        "# **Tensor in MNIST datasets**"
      ]
    },
    {
      "cell_type": "code",
      "metadata": {
        "id": "7PWDUEUF7z_Z",
        "colab_type": "code",
        "colab": {}
      },
      "source": [
        "from __future__ import absolute_import, print_function, division, unicode_literals\n",
        "!pip install tensorflow==2.0.0-beta1\n",
        "\n",
        "import tensorflow as tf\n"
      ],
      "execution_count": 0,
      "outputs": []
    },
    {
      "cell_type": "code",
      "metadata": {
        "id": "onH8jddI8X2V",
        "colab_type": "code",
        "outputId": "b89d284e-1f33-4a23-e342-e61efc08dfee",
        "colab": {
          "base_uri": "https://localhost:8080/",
          "height": 74
        }
      },
      "source": [
        "mnist = tf.keras.datasets.mnist\n",
        "(x_train, y_train), (x_test, y_test) = mnist.load_data()"
      ],
      "execution_count": 0,
      "outputs": [
        {
          "output_type": "stream",
          "text": [
            "Downloading data from https://storage.googleapis.com/tensorflow/tf-keras-datasets/mnist.npz\n",
            "11493376/11490434 [==============================] - 0s 0us/step\n"
          ],
          "name": "stdout"
        }
      ]
    },
    {
      "cell_type": "code",
      "metadata": {
        "id": "W53lVxWD8rVq",
        "colab_type": "code",
        "outputId": "72485a71-477f-4c9c-8ee8-7eb0a2e75c4e",
        "colab": {
          "base_uri": "https://localhost:8080/",
          "height": 127
        }
      },
      "source": [
        "print(\"In Training Data\\n****************\\n\")\n",
        "print(\"Number of axes in tensor = %d\" %x_train.ndim)\n",
        "print(\"Shape of tensor = \", x_train.shape)\n",
        "print(\"Data type of tensor elements = %s\" %x_train.dtype)"
      ],
      "execution_count": 0,
      "outputs": [
        {
          "output_type": "stream",
          "text": [
            "In Training Data\n",
            "****************\n",
            "\n",
            "Number of axes in tensor = 3\n",
            "Shape of tensor =  (60000, 28, 28)\n",
            "Data type of tensor elements = uint8\n"
          ],
          "name": "stdout"
        }
      ]
    },
    {
      "cell_type": "code",
      "metadata": {
        "id": "VOSWMJ139jJO",
        "colab_type": "code",
        "outputId": "c6c72c31-7a61-4254-ceb9-25f353b01f3f",
        "colab": {
          "base_uri": "https://localhost:8080/",
          "height": 127
        }
      },
      "source": [
        "print(\"In Training Label\\n*****************\\n\")\n",
        "print(\"Number of axes in tensor = %d\" %y_train.ndim)\n",
        "print(\"Shape of tensor = \", y_train.shape)\n",
        "print(\"Data type of tensor elements = %s\" %y_train.dtype)"
      ],
      "execution_count": 0,
      "outputs": [
        {
          "output_type": "stream",
          "text": [
            "In Training Label\n",
            "*****************\n",
            "\n",
            "Number of axes in tensor = 1\n",
            "Shape of tensor =  (60000,)\n",
            "Data type of tensor elements = uint8\n"
          ],
          "name": "stdout"
        }
      ]
    },
    {
      "cell_type": "markdown",
      "metadata": {
        "id": "jPMQZVp59sPp",
        "colab_type": "text"
      },
      "source": [
        "# **Data Selection (Tensor Slicing)**\n",
        "\n",
        "## Selecting a Single data point"
      ]
    },
    {
      "cell_type": "code",
      "metadata": {
        "id": "9sz4GyhX9xmM",
        "colab_type": "code",
        "outputId": "10e11bab-a872-4811-d9f1-a5481d1ab222",
        "colab": {
          "base_uri": "https://localhost:8080/",
          "height": 1000
        }
      },
      "source": [
        "x_1 = x_train[0]\n",
        "x_1"
      ],
      "execution_count": 0,
      "outputs": [
        {
          "output_type": "execute_result",
          "data": {
            "text/plain": [
              "array([[  0,   0,   0,   0,   0,   0,   0,   0,   0,   0,   0,   0,   0,\n",
              "          0,   0,   0,   0,   0,   0,   0,   0,   0,   0,   0,   0,   0,\n",
              "          0,   0],\n",
              "       [  0,   0,   0,   0,   0,   0,   0,   0,   0,   0,   0,   0,   0,\n",
              "          0,   0,   0,   0,   0,   0,   0,   0,   0,   0,   0,   0,   0,\n",
              "          0,   0],\n",
              "       [  0,   0,   0,   0,   0,   0,   0,   0,   0,   0,   0,   0,   0,\n",
              "          0,   0,   0,   0,   0,   0,   0,   0,   0,   0,   0,   0,   0,\n",
              "          0,   0],\n",
              "       [  0,   0,   0,   0,   0,   0,   0,   0,   0,   0,   0,   0,   0,\n",
              "          0,   0,   0,   0,   0,   0,   0,   0,   0,   0,   0,   0,   0,\n",
              "          0,   0],\n",
              "       [  0,   0,   0,   0,   0,   0,   0,   0,   0,   0,   0,   0,   0,\n",
              "          0,   0,   0,   0,   0,   0,   0,   0,   0,   0,   0,   0,   0,\n",
              "          0,   0],\n",
              "       [  0,   0,   0,   0,   0,   0,   0,   0,   0,   0,   0,   0,   3,\n",
              "         18,  18,  18, 126, 136, 175,  26, 166, 255, 247, 127,   0,   0,\n",
              "          0,   0],\n",
              "       [  0,   0,   0,   0,   0,   0,   0,   0,  30,  36,  94, 154, 170,\n",
              "        253, 253, 253, 253, 253, 225, 172, 253, 242, 195,  64,   0,   0,\n",
              "          0,   0],\n",
              "       [  0,   0,   0,   0,   0,   0,   0,  49, 238, 253, 253, 253, 253,\n",
              "        253, 253, 253, 253, 251,  93,  82,  82,  56,  39,   0,   0,   0,\n",
              "          0,   0],\n",
              "       [  0,   0,   0,   0,   0,   0,   0,  18, 219, 253, 253, 253, 253,\n",
              "        253, 198, 182, 247, 241,   0,   0,   0,   0,   0,   0,   0,   0,\n",
              "          0,   0],\n",
              "       [  0,   0,   0,   0,   0,   0,   0,   0,  80, 156, 107, 253, 253,\n",
              "        205,  11,   0,  43, 154,   0,   0,   0,   0,   0,   0,   0,   0,\n",
              "          0,   0],\n",
              "       [  0,   0,   0,   0,   0,   0,   0,   0,   0,  14,   1, 154, 253,\n",
              "         90,   0,   0,   0,   0,   0,   0,   0,   0,   0,   0,   0,   0,\n",
              "          0,   0],\n",
              "       [  0,   0,   0,   0,   0,   0,   0,   0,   0,   0,   0, 139, 253,\n",
              "        190,   2,   0,   0,   0,   0,   0,   0,   0,   0,   0,   0,   0,\n",
              "          0,   0],\n",
              "       [  0,   0,   0,   0,   0,   0,   0,   0,   0,   0,   0,  11, 190,\n",
              "        253,  70,   0,   0,   0,   0,   0,   0,   0,   0,   0,   0,   0,\n",
              "          0,   0],\n",
              "       [  0,   0,   0,   0,   0,   0,   0,   0,   0,   0,   0,   0,  35,\n",
              "        241, 225, 160, 108,   1,   0,   0,   0,   0,   0,   0,   0,   0,\n",
              "          0,   0],\n",
              "       [  0,   0,   0,   0,   0,   0,   0,   0,   0,   0,   0,   0,   0,\n",
              "         81, 240, 253, 253, 119,  25,   0,   0,   0,   0,   0,   0,   0,\n",
              "          0,   0],\n",
              "       [  0,   0,   0,   0,   0,   0,   0,   0,   0,   0,   0,   0,   0,\n",
              "          0,  45, 186, 253, 253, 150,  27,   0,   0,   0,   0,   0,   0,\n",
              "          0,   0],\n",
              "       [  0,   0,   0,   0,   0,   0,   0,   0,   0,   0,   0,   0,   0,\n",
              "          0,   0,  16,  93, 252, 253, 187,   0,   0,   0,   0,   0,   0,\n",
              "          0,   0],\n",
              "       [  0,   0,   0,   0,   0,   0,   0,   0,   0,   0,   0,   0,   0,\n",
              "          0,   0,   0,   0, 249, 253, 249,  64,   0,   0,   0,   0,   0,\n",
              "          0,   0],\n",
              "       [  0,   0,   0,   0,   0,   0,   0,   0,   0,   0,   0,   0,   0,\n",
              "          0,  46, 130, 183, 253, 253, 207,   2,   0,   0,   0,   0,   0,\n",
              "          0,   0],\n",
              "       [  0,   0,   0,   0,   0,   0,   0,   0,   0,   0,   0,   0,  39,\n",
              "        148, 229, 253, 253, 253, 250, 182,   0,   0,   0,   0,   0,   0,\n",
              "          0,   0],\n",
              "       [  0,   0,   0,   0,   0,   0,   0,   0,   0,   0,  24, 114, 221,\n",
              "        253, 253, 253, 253, 201,  78,   0,   0,   0,   0,   0,   0,   0,\n",
              "          0,   0],\n",
              "       [  0,   0,   0,   0,   0,   0,   0,   0,  23,  66, 213, 253, 253,\n",
              "        253, 253, 198,  81,   2,   0,   0,   0,   0,   0,   0,   0,   0,\n",
              "          0,   0],\n",
              "       [  0,   0,   0,   0,   0,   0,  18, 171, 219, 253, 253, 253, 253,\n",
              "        195,  80,   9,   0,   0,   0,   0,   0,   0,   0,   0,   0,   0,\n",
              "          0,   0],\n",
              "       [  0,   0,   0,   0,  55, 172, 226, 253, 253, 253, 253, 244, 133,\n",
              "         11,   0,   0,   0,   0,   0,   0,   0,   0,   0,   0,   0,   0,\n",
              "          0,   0],\n",
              "       [  0,   0,   0,   0, 136, 253, 253, 253, 212, 135, 132,  16,   0,\n",
              "          0,   0,   0,   0,   0,   0,   0,   0,   0,   0,   0,   0,   0,\n",
              "          0,   0],\n",
              "       [  0,   0,   0,   0,   0,   0,   0,   0,   0,   0,   0,   0,   0,\n",
              "          0,   0,   0,   0,   0,   0,   0,   0,   0,   0,   0,   0,   0,\n",
              "          0,   0],\n",
              "       [  0,   0,   0,   0,   0,   0,   0,   0,   0,   0,   0,   0,   0,\n",
              "          0,   0,   0,   0,   0,   0,   0,   0,   0,   0,   0,   0,   0,\n",
              "          0,   0],\n",
              "       [  0,   0,   0,   0,   0,   0,   0,   0,   0,   0,   0,   0,   0,\n",
              "          0,   0,   0,   0,   0,   0,   0,   0,   0,   0,   0,   0,   0,\n",
              "          0,   0]], dtype=uint8)"
            ]
          },
          "metadata": {
            "tags": []
          },
          "execution_count": 33
        }
      ]
    },
    {
      "cell_type": "code",
      "metadata": {
        "id": "Rfl2SdaG-Pey",
        "colab_type": "code",
        "outputId": "93957678-c0b2-4035-f9c1-5ad0e5dadebd",
        "colab": {
          "base_uri": "https://localhost:8080/",
          "height": 265
        }
      },
      "source": [
        "import matplotlib.pyplot as plt\n",
        "\n",
        "def display_image(img):\n",
        "  plt.imshow(img, cmap=plt.cm.binary)\n",
        "  plt.show()\n",
        "\n",
        "display_image(x_1)"
      ],
      "execution_count": 0,
      "outputs": [
        {
          "output_type": "display_data",
          "data": {
            "image/png": "[encoded data removed]",
            "text/plain": [
              "<Figure size 432x288 with 1 Axes>"
            ]
          },
          "metadata": {
            "tags": []
          }
        }
      ]
    },
    {
      "cell_type": "markdown",
      "metadata": {
        "id": "wsI3lqR4-rHM",
        "colab_type": "text"
      },
      "source": [
        "## Select Multiple Data points"
      ]
    },
    {
      "cell_type": "code",
      "metadata": {
        "id": "pCBle-cd-wTH",
        "colab_type": "code",
        "outputId": "bdfd9a8c-f544-491a-cee7-946c8a54971d",
        "colab": {
          "base_uri": "https://localhost:8080/",
          "height": 127
        }
      },
      "source": [
        "x_train_slice = x_train[10:100]\n",
        "print(\"In Training Data\\n****************\\n\")\n",
        "print(\"Number of axes in tensor = %d\" %x_train_slice.ndim)\n",
        "print(\"Shape of tensor = \", x_train_slice.shape)\n",
        "print(\"Data type of tensor elements = %s\" %x_train_slice.dtype)"
      ],
      "execution_count": 0,
      "outputs": [
        {
          "output_type": "stream",
          "text": [
            "In Training Data\n",
            "****************\n",
            "\n",
            "Number of axes in tensor = 3\n",
            "Shape of tensor =  (90, 28, 28)\n",
            "Data type of tensor elements = uint8\n"
          ],
          "name": "stdout"
        }
      ]
    },
    {
      "cell_type": "code",
      "metadata": {
        "id": "fpZG8is8_INc",
        "colab_type": "code",
        "outputId": "c42d3e42-8736-4df9-ace3-4c963e2ad3f9",
        "colab": {
          "base_uri": "https://localhost:8080/",
          "height": 127
        }
      },
      "source": [
        "x_train_slice = x_train[10:100,:,:]\n",
        "print(\"In Training Data\\n****************\\n\")\n",
        "print(\"Number of axes in tensor = %d\" %x_train_slice.ndim)\n",
        "print(\"Shape of tensor = \", x_train_slice.shape)\n",
        "print(\"Data type of tensor elements = %s\" %x_train_slice.dtype)"
      ],
      "execution_count": 0,
      "outputs": [
        {
          "output_type": "stream",
          "text": [
            "In Training Data\n",
            "****************\n",
            "\n",
            "Number of axes in tensor = 3\n",
            "Shape of tensor =  (90, 28, 28)\n",
            "Data type of tensor elements = uint8\n"
          ],
          "name": "stdout"
        }
      ]
    },
    {
      "cell_type": "code",
      "metadata": {
        "id": "tbExgift_K89",
        "colab_type": "code",
        "outputId": "6930702c-0486-4878-c03f-4fd75c80f998",
        "colab": {
          "base_uri": "https://localhost:8080/",
          "height": 127
        }
      },
      "source": [
        "x_train_slice = x_train[10:100,0:28,:28]\n",
        "print(\"In Training Data\\n****************\\n\")\n",
        "print(\"Number of axes in tensor = %d\" %x_train_slice.ndim)\n",
        "print(\"Shape of tensor = \", x_train_slice.shape)\n",
        "print(\"Data type of tensor elements = %s\" %x_train_slice.dtype)"
      ],
      "execution_count": 0,
      "outputs": [
        {
          "output_type": "stream",
          "text": [
            "In Training Data\n",
            "****************\n",
            "\n",
            "Number of axes in tensor = 3\n",
            "Shape of tensor =  (90, 28, 28)\n",
            "Data type of tensor elements = uint8\n"
          ],
          "name": "stdout"
        }
      ]
    },
    {
      "cell_type": "code",
      "metadata": {
        "id": "rgfSNIlo_cF3",
        "colab_type": "code",
        "outputId": "8f6f262d-114d-4476-ca91-5399e5565fe7",
        "colab": {
          "base_uri": "https://localhost:8080/",
          "height": 127
        }
      },
      "source": [
        "x_train_slice = x_train[:,0:14,:14]\n",
        "print(\"In Training Data\\n****************\\n\")\n",
        "print(\"Number of axes in tensor = %d\" %x_train_slice.ndim)\n",
        "print(\"Shape of tensor = \", x_train_slice.shape)\n",
        "print(\"Data type of tensor elements = %s\" %x_train_slice.dtype)"
      ],
      "execution_count": 0,
      "outputs": [
        {
          "output_type": "stream",
          "text": [
            "In Training Data\n",
            "****************\n",
            "\n",
            "Number of axes in tensor = 3\n",
            "Shape of tensor =  (60000, 14, 14)\n",
            "Data type of tensor elements = uint8\n"
          ],
          "name": "stdout"
        }
      ]
    },
    {
      "cell_type": "markdown",
      "metadata": {
        "id": "ZCXnM5Zr_npz",
        "colab_type": "text"
      },
      "source": [
        "## **Crop from middle**"
      ]
    },
    {
      "cell_type": "code",
      "metadata": {
        "id": "411cWu0y_kpE",
        "colab_type": "code",
        "outputId": "034ad3cd-5b98-4219-a098-7139c088d072",
        "colab": {
          "base_uri": "https://localhost:8080/",
          "height": 127
        }
      },
      "source": [
        "x_train_slice = x_train[:,7:-7,7:-7]\n",
        "print(\"In Training Data\\n****************\\n\")\n",
        "print(\"Number of axes in tensor = %d\" %x_train_slice.ndim)\n",
        "print(\"Shape of tensor = \", x_train_slice.shape)\n",
        "print(\"Data type of tensor elements = %s\" %x_train_slice.dtype)"
      ],
      "execution_count": 0,
      "outputs": [
        {
          "output_type": "stream",
          "text": [
            "In Training Data\n",
            "****************\n",
            "\n",
            "Number of axes in tensor = 3\n",
            "Shape of tensor =  (60000, 14, 14)\n",
            "Data type of tensor elements = uint8\n"
          ],
          "name": "stdout"
        }
      ]
    },
    {
      "cell_type": "markdown",
      "metadata": {
        "id": "EU63e0p-_wcj",
        "colab_type": "text"
      },
      "source": [
        "# **Data Batches**"
      ]
    },
    {
      "cell_type": "code",
      "metadata": {
        "id": "W-9uU6fT_tpA",
        "colab_type": "code",
        "outputId": "8b4f2bbb-bc27-4f77-f6b3-a920773059b2",
        "colab": {
          "base_uri": "https://localhost:8080/",
          "height": 127
        }
      },
      "source": [
        "batch_1 = x_train[:128]\n",
        "print(\"In Training Data\\n****************\\n\")\n",
        "print(\"Number of axes in tensor = %d\" %batch_1.ndim)\n",
        "print(\"Shape of tensor = \", batch_1.shape)\n",
        "print(\"Data type of tensor elements = %s\" %batch_1.dtype)"
      ],
      "execution_count": 0,
      "outputs": [
        {
          "output_type": "stream",
          "text": [
            "In Training Data\n",
            "****************\n",
            "\n",
            "Number of axes in tensor = 3\n",
            "Shape of tensor =  (128, 28, 28)\n",
            "Data type of tensor elements = uint8\n"
          ],
          "name": "stdout"
        }
      ]
    },
    {
      "cell_type": "code",
      "metadata": {
        "id": "2LNr0Bok_80A",
        "colab_type": "code",
        "outputId": "8c49198b-3aeb-4b9c-9b58-323eac17498a",
        "colab": {
          "base_uri": "https://localhost:8080/",
          "height": 127
        }
      },
      "source": [
        "batch_2 = x_train[128:2*128]\n",
        "print(\"In Training Data\\n****************\\n\")\n",
        "print(\"Number of axes in tensor = %d\" %batch_2.ndim)\n",
        "print(\"Shape of tensor = \", batch_2.shape)\n",
        "print(\"Data type of tensor elements = %s\" %batch_2.dtype)"
      ],
      "execution_count": 0,
      "outputs": [
        {
          "output_type": "stream",
          "text": [
            "In Training Data\n",
            "****************\n",
            "\n",
            "Number of axes in tensor = 3\n",
            "Shape of tensor =  (128, 28, 28)\n",
            "Data type of tensor elements = uint8\n"
          ],
          "name": "stdout"
        }
      ]
    },
    {
      "cell_type": "markdown",
      "metadata": {
        "id": "4yJXwGXPBu_3",
        "colab_type": "text"
      },
      "source": [
        "# **Lecture 2**"
      ]
    },
    {
      "cell_type": "code",
      "metadata": {
        "id": "qGBc_zZNByEq",
        "colab_type": "code",
        "colab": {}
      },
      "source": [
        "import numpy as np"
      ],
      "execution_count": 0,
      "outputs": []
    },
    {
      "cell_type": "code",
      "metadata": {
        "id": "txEDJj3AB1qI",
        "colab_type": "code",
        "colab": {
          "base_uri": "https://localhost:8080/",
          "height": 164
        },
        "outputId": "9c83fb2d-a32a-450b-ed61-e3b4598a5bd2"
      },
      "source": [
        "w = np.array([[1,0.5], [2,1]])\n",
        "print(\"# of axes - w =\",w.ndim)\n",
        "print(\"Shape of axes - w =\",w.shape)\n",
        "\n",
        "input = np.array([[1,2], [-1,2]])\n",
        "print(\"\\n# of axes - input =\",input.ndim)\n",
        "print(\"Shape of axes - input =\",input.shape)\n",
        "\n",
        "b = np.array([-2.0,0.5])\n",
        "print(\"\\n# of axes - b =\",b.ndim)\n",
        "print(\"Shape of axes - b =\",b.shape)\n"
      ],
      "execution_count": 3,
      "outputs": [
        {
          "output_type": "stream",
          "text": [
            "# of axes - w = 2\n",
            "Shape of axes - w = (2, 2)\n",
            "\n",
            "# of axes - input = 2\n",
            "Shape of axes - input = (2, 2)\n",
            "\n",
            "# of axes - b = 1\n",
            "Shape of axes - b = (2,)\n"
          ],
          "name": "stdout"
        }
      ]
    },
    {
      "cell_type": "markdown",
      "metadata": {
        "id": "1gRI7B7gCngL",
        "colab_type": "text"
      },
      "source": [
        "### **Dot Product**"
      ]
    },
    {
      "cell_type": "code",
      "metadata": {
        "id": "4j9-VrbjCk-a",
        "colab_type": "code",
        "colab": {
          "base_uri": "https://localhost:8080/",
          "height": 146
        },
        "outputId": "140c450e-6026-46bf-ff2c-d90949580f76"
      },
      "source": [
        "z = np.dot(w, input) + b\n",
        "print(\"Shape of axes - w =\",w.shape)\n",
        "print(\"Shape of axes - input =\",input.shape)\n",
        "print(\"Shape of axes - b =\",b.shape)\n",
        "print(\"\\nShape of axes - z =\",z.shape)\n",
        "\n",
        "print(z)"
      ],
      "execution_count": 8,
      "outputs": [
        {
          "output_type": "stream",
          "text": [
            "Shape of axes - w = (2, 2)\n",
            "Shape of axes - input = (2, 2)\n",
            "Shape of axes - b = (2,)\n",
            "\n",
            "Shape of axes - z = (2, 2)\n",
            "[[-1.5  3.5]\n",
            " [-1.   6.5]]\n"
          ],
          "name": "stdout"
        }
      ]
    },
    {
      "cell_type": "code",
      "metadata": {
        "id": "cHWEMBObD1aY",
        "colab_type": "code",
        "colab": {
          "base_uri": "https://localhost:8080/",
          "height": 182
        },
        "outputId": "54843c06-c9cb-499c-e87d-227910fc17b5"
      },
      "source": [
        "print(\"w=\\n\",w)\n",
        "print(\"input=\\n\",input)\n",
        "print(\"z=\\n\",z)"
      ],
      "execution_count": 7,
      "outputs": [
        {
          "output_type": "stream",
          "text": [
            "w=\n",
            " [[1.  0.5]\n",
            " [2.  1. ]]\n",
            "input=\n",
            " [[ 1  2]\n",
            " [-1  2]]\n",
            "z=\n",
            " [[0.5 3. ]\n",
            " [1.  6. ]]\n"
          ],
          "name": "stdout"
        }
      ]
    },
    {
      "cell_type": "markdown",
      "metadata": {
        "id": "54l1vRM8EvtY",
        "colab_type": "text"
      },
      "source": [
        "## **Apply relu**"
      ]
    },
    {
      "cell_type": "code",
      "metadata": {
        "id": "2F_RtDKeEydz",
        "colab_type": "code",
        "colab": {
          "base_uri": "https://localhost:8080/",
          "height": 54
        },
        "outputId": "3e570275-f5a6-42f8-bd26-c314d812711a"
      },
      "source": [
        "output = np.maximum(0., z)\n",
        "print(output)"
      ],
      "execution_count": 10,
      "outputs": [
        {
          "output_type": "stream",
          "text": [
            "[[0.  3.5]\n",
            " [0.  6.5]]\n"
          ],
          "name": "stdout"
        }
      ]
    },
    {
      "cell_type": "code",
      "metadata": {
        "id": "37fTFTVkFGCl",
        "colab_type": "code",
        "colab": {
          "base_uri": "https://localhost:8080/",
          "height": 283
        },
        "outputId": "a6c86edf-7d27-46ea-cdd0-655d5fc46ee6"
      },
      "source": [
        "import matplotlib.pyplot as plt\n",
        "\n",
        "x = np.linspace(-10, 10, 100)\n",
        "z = np.maximum(0., x)\n",
        "plt.plot(x,z)"
      ],
      "execution_count": 16,
      "outputs": [
        {
          "output_type": "execute_result",
          "data": {
            "text/plain": [
              "[<matplotlib.lines.Line2D at 0x7f30619ea0f0>]"
            ]
          },
          "metadata": {
            "tags": []
          },
          "execution_count": 16
        },
        {
          "output_type": "display_data",
          "data": {
            "image/png": "[encoded data removed]",
            "text/plain": [
              "<Figure size 432x288 with 1 Axes>"
            ]
          },
          "metadata": {
            "tags": []
          }
        }
      ]
    },
    {
      "cell_type": "markdown",
      "metadata": {
        "id": "uPDvSjSqFwtu",
        "colab_type": "text"
      },
      "source": [
        "## **Sigmoid Function**"
      ]
    },
    {
      "cell_type": "code",
      "metadata": {
        "id": "XHqH8r_KFH-O",
        "colab_type": "code",
        "colab": {
          "base_uri": "https://localhost:8080/",
          "height": 283
        },
        "outputId": "218aef7c-1026-4290-d053-955f76796d74"
      },
      "source": [
        "import math\n",
        "\n",
        "x = np.linspace(-10, 10, 100)\n",
        "z = 1/(1+np.exp(-x))\n",
        "plt.plot(x,z)"
      ],
      "execution_count": 18,
      "outputs": [
        {
          "output_type": "execute_result",
          "data": {
            "text/plain": [
              "[<matplotlib.lines.Line2D at 0x7f30619d8b38>]"
            ]
          },
          "metadata": {
            "tags": []
          },
          "execution_count": 18
        },
        {
          "output_type": "display_data",
          "data": {
            "image/png": "[encoded data removed]",
            "text/plain": [
              "<Figure size 432x288 with 1 Axes>"
            ]
          },
          "metadata": {
            "tags": []
          }
        }
      ]
    },
    {
      "cell_type": "markdown",
      "metadata": {
        "id": "kyu5p53GGWez",
        "colab_type": "text"
      },
      "source": [
        "# **Broadcasting**\n",
        "Convering a smaller tensor to bigger"
      ]
    },
    {
      "cell_type": "code",
      "metadata": {
        "id": "NuaVnJVTGfdi",
        "colab_type": "code",
        "colab": {
          "base_uri": "https://localhost:8080/",
          "height": 90
        },
        "outputId": "e729a15d-86a3-4c20-831d-f1b82abf1c57"
      },
      "source": [
        "x_1 = np.random.rand(32,10)\n",
        "x_2 = np.random.rand(10)\n",
        "print(\"Shape of x_1\", x_1.shape)\n",
        "print(\"Original Shape of x_2\", x_2.shape)\n",
        "\n",
        "x_2 = np.expand_dims(x_2,axis=0)\n",
        "print(\"New Shape of x_2\", x_2.shape)\n",
        "\n",
        "x_2 = np.repeat(x_2, 32, axis=0)\n",
        "print(\"New Shape of x_2 after broadcasting\", x_2.shape)"
      ],
      "execution_count": 27,
      "outputs": [
        {
          "output_type": "stream",
          "text": [
            "Shape of x_1 (32, 10)\n",
            "Original Shape of x_2 (10,)\n",
            "New Shape of x_2 (1, 10)\n",
            "New Shape of x_2 after broadcasting (32, 10)\n"
          ],
          "name": "stdout"
        }
      ]
    },
    {
      "cell_type": "code",
      "metadata": {
        "id": "v3pijpsyHxYN",
        "colab_type": "code",
        "colab": {
          "base_uri": "https://localhost:8080/",
          "height": 54
        },
        "outputId": "5589ab07-d245-4552-c1a7-332fdd4c6a14"
      },
      "source": [
        "x_2[0]"
      ],
      "execution_count": 30,
      "outputs": [
        {
          "output_type": "execute_result",
          "data": {
            "text/plain": [
              "array([0.76443784, 0.45909043, 0.38478532, 0.23507363, 0.22653045,\n",
              "       0.38336348, 0.98762404, 0.91908946, 0.12468844, 0.66299879])"
            ]
          },
          "metadata": {
            "tags": []
          },
          "execution_count": 30
        }
      ]
    },
    {
      "cell_type": "code",
      "metadata": {
        "id": "7df38GtkH5FB",
        "colab_type": "code",
        "colab": {
          "base_uri": "https://localhost:8080/",
          "height": 54
        },
        "outputId": "70aaed31-3ec7-4ac0-b88f-fb4ff62c0458"
      },
      "source": [
        "x_2[1]"
      ],
      "execution_count": 31,
      "outputs": [
        {
          "output_type": "execute_result",
          "data": {
            "text/plain": [
              "array([0.76443784, 0.45909043, 0.38478532, 0.23507363, 0.22653045,\n",
              "       0.38336348, 0.98762404, 0.91908946, 0.12468844, 0.66299879])"
            ]
          },
          "metadata": {
            "tags": []
          },
          "execution_count": 31
        }
      ]
    },
    {
      "cell_type": "code",
      "metadata": {
        "id": "ABAUHhVaH-oi",
        "colab_type": "code",
        "colab": {
          "base_uri": "https://localhost:8080/",
          "height": 54
        },
        "outputId": "2a802b9a-0ec2-4b90-f836-6f5a5e9d427d"
      },
      "source": [
        "x_2[20]"
      ],
      "execution_count": 32,
      "outputs": [
        {
          "output_type": "execute_result",
          "data": {
            "text/plain": [
              "array([0.76443784, 0.45909043, 0.38478532, 0.23507363, 0.22653045,\n",
              "       0.38336348, 0.98762404, 0.91908946, 0.12468844, 0.66299879])"
            ]
          },
          "metadata": {
            "tags": []
          },
          "execution_count": 32
        }
      ]
    },
    {
      "cell_type": "markdown",
      "metadata": {
        "id": "DSPxMtXsHiO-",
        "colab_type": "text"
      },
      "source": [
        "### Numpy also broadcast automaticaly"
      ]
    },
    {
      "cell_type": "code",
      "metadata": {
        "id": "JqCEiNoZHnpg",
        "colab_type": "code",
        "colab": {
          "base_uri": "https://localhost:8080/",
          "height": 201
        },
        "outputId": "8ea4b522-1f97-4a1c-922d-c2c8609f01cb"
      },
      "source": [
        "x_1 = np.random.rand(3,4)\n",
        "x_2 = np.random.rand(4)\n",
        "x_3 = x_1 + x_2\n",
        "print(\"x_1\\n\",x_1)\n",
        "print(\"x_2\\n\",x_2)\n",
        "print(\"x_3\\n\",x_3)"
      ],
      "execution_count": 36,
      "outputs": [
        {
          "output_type": "stream",
          "text": [
            "x_1\n",
            " [[0.91279195 0.74531929 0.19978139 0.39183379]\n",
            " [0.40209246 0.03731848 0.08210629 0.82174307]\n",
            " [0.66784619 0.2156577  0.23593203 0.60659784]]\n",
            "x_2\n",
            " [0.70420207 0.50908977 0.57990073 0.08170455]\n",
            "x_3\n",
            " [[1.61699402 1.25440906 0.77968212 0.47353834]\n",
            " [1.10629453 0.54640826 0.66200702 0.90344762]\n",
            " [1.37204826 0.72474747 0.81583276 0.68830239]]\n"
          ],
          "name": "stdout"
        }
      ]
    },
    {
      "cell_type": "markdown",
      "metadata": {
        "id": "Sfn9MyrxJOS6",
        "colab_type": "text"
      },
      "source": [
        "# **Reshaping of Tensors**"
      ]
    },
    {
      "cell_type": "code",
      "metadata": {
        "id": "cUVF0CyzI4rV",
        "colab_type": "code",
        "colab": {
          "base_uri": "https://localhost:8080/",
          "height": 164
        },
        "outputId": "4e88ccfa-1a8a-4ead-fb77-680d7e98378d"
      },
      "source": [
        "x = np.array([[0.,1.],\n",
        "             [2.,3.],\n",
        "             [4.,5.]])\n",
        "print(\"x =\", x)\n",
        "print(\"shape of x =\", x.shape)\n",
        "\n",
        "#Reshaping the tensor\n",
        "\n",
        "x = x.reshape((6,1))\n",
        "print(\"After reshaping to (6,1)\")\n",
        "print(\"x =\", x)\n",
        "print(\"shape of x =\", x.shape)\n",
        "\n",
        "#Again reshaping the tensor\n",
        "\n",
        "x = x.reshape((2,3))\n",
        "print(\"After reshaping to (2,3)\")\n",
        "print(\"x =\", x)\n",
        "print(\"shape of x =\", x.shape)"
      ],
      "execution_count": 42,
      "outputs": [
        {
          "output_type": "stream",
          "text": [
            "x = [[0. 1.]\n",
            " [2. 3.]\n",
            " [4. 5.]]\n",
            "shape of x = (3, 2)\n",
            "After reshaping to (2,3)\n",
            "x = [[0. 1. 2.]\n",
            " [3. 4. 5.]]\n",
            "shape of x = (2, 3)\n"
          ],
          "name": "stdout"
        }
      ]
    },
    {
      "cell_type": "markdown",
      "metadata": {
        "id": "e6Gql_hHKOHK",
        "colab_type": "text"
      },
      "source": [
        "**Transpose**"
      ]
    },
    {
      "cell_type": "code",
      "metadata": {
        "id": "fbUUA-scKQX6",
        "colab_type": "code",
        "colab": {
          "base_uri": "https://localhost:8080/",
          "height": 72
        },
        "outputId": "c5afae17-7e2c-4648-90fc-f14ddc80344c"
      },
      "source": [
        "x = np.zeros((300,20))\n",
        "print(x.shape)\n",
        "x = x.transpose()\n",
        "print(x.shape)\n",
        "\n",
        "#or\n",
        "\n",
        "x = np.transpose(x)\n",
        "print(x.shape)"
      ],
      "execution_count": 52,
      "outputs": [
        {
          "output_type": "stream",
          "text": [
            "(300, 20)\n",
            "(20, 300)\n",
            "(300, 20)\n"
          ],
          "name": "stdout"
        }
      ]
    }
  ]
}